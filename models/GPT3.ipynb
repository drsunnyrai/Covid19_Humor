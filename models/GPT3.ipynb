{
  "nbformat": 4,
  "nbformat_minor": 0,
  "metadata": {
    "colab": {
      "provenance": []
    },
    "kernelspec": {
      "name": "python3",
      "display_name": "Python 3"
    },
    "language_info": {
      "name": "python"
    }
  },
  "cells": [
    {
      "cell_type": "markdown",
      "source": [
        "## Humor Detection"
      ],
      "metadata": {
        "id": "KDKwmkIB9cKA"
      }
    },
    {
      "cell_type": "code",
      "execution_count": null,
      "metadata": {
        "id": "-wr2Px6O9HWx"
      },
      "outputs": [],
      "source": [
        "def humor_gpt3(post):\n",
        "  openai.api_key = 'ADD OPEN AI KEY'\n",
        "  response = openai.Completion.create(\n",
        "  model=\"text-davinci-003\",\n",
        "  prompt=\"Task : Given the context of covid-19 pandemic, explain how a post is humorous or not.\\nPost :\"+post,\n",
        "  temperature=0.7,\n",
        "  max_tokens=500,\n",
        "  top_p=1,\n",
        "  frequency_penalty=0,\n",
        "  presence_penalty=0\n",
        "  )\n",
        "  return response.choices[0].text"
      ]
    },
    {
      "cell_type": "markdown",
      "source": [
        "## Maladaptive Humor Detection"
      ],
      "metadata": {
        "id": "mu5IS3Ta9XG5"
      }
    },
    {
      "cell_type": "code",
      "source": [
        "def mal_humor_fun(post):\n",
        "  openai.api_key = 'ADD OPENAI KEY'\n",
        "  response = openai.Completion.create(\n",
        "  model=\"text-davinci-003\",\n",
        "  prompt=\"Task : Given the context of covid-19 pandemic, explain how a post is offensive or not offensive.\\nPost :\"+post,\n",
        "  temperature=0.7,\n",
        "  max_tokens=400,\n",
        "  top_p=1,\n",
        "  frequency_penalty=0,\n",
        "  presence_penalty=0\n",
        "  )\n",
        "  return response.choices[0].text"
      ],
      "metadata": {
        "id": "thVaRuEa9TVR"
      },
      "execution_count": null,
      "outputs": []
    }
  ]
}