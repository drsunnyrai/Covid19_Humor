{
  "nbformat": 4,
  "nbformat_minor": 0,
  "metadata": {
    "colab": {
      "provenance": []
    },
    "kernelspec": {
      "name": "python3",
      "display_name": "Python 3"
    },
    "language_info": {
      "name": "python"
    },
    "gpuClass": "standard"
  },
  "cells": [
    {
      "cell_type": "markdown",
      "source": [
        "### Back Translation : A data augmentation technique to over-sample maladaptive posts."
      ],
      "metadata": {
        "id": "7FeHlOjBH-Kv"
      }
    },
    {
      "cell_type": "code",
      "execution_count": null,
      "metadata": {
        "colab": {
          "base_uri": "https://localhost:8080/"
        },
        "id": "30hjM-Yu_jOo",
        "outputId": "2981a616-8708-49ae-f2e4-644ec95dc531"
      },
      "outputs": [
        {
          "output_type": "stream",
          "name": "stdout",
          "text": [
            "Looking in indexes: https://pypi.org/simple, https://us-python.pkg.dev/colab-wheels/public/simple/\n",
            "Requirement already satisfied: transformers in /usr/local/lib/python3.9/dist-packages (4.27.0)\n",
            "Requirement already satisfied: huggingface-hub<1.0,>=0.11.0 in /usr/local/lib/python3.9/dist-packages (from transformers) (0.13.2)\n",
            "Requirement already satisfied: packaging>=20.0 in /usr/local/lib/python3.9/dist-packages (from transformers) (23.0)\n",
            "Requirement already satisfied: regex!=2019.12.17 in /usr/local/lib/python3.9/dist-packages (from transformers) (2022.6.2)\n",
            "Requirement already satisfied: tokenizers!=0.11.3,<0.14,>=0.11.1 in /usr/local/lib/python3.9/dist-packages (from transformers) (0.13.2)\n",
            "Requirement already satisfied: filelock in /usr/local/lib/python3.9/dist-packages (from transformers) (3.9.0)\n",
            "Requirement already satisfied: tqdm>=4.27 in /usr/local/lib/python3.9/dist-packages (from transformers) (4.65.0)\n",
            "Requirement already satisfied: requests in /usr/local/lib/python3.9/dist-packages (from transformers) (2.25.1)\n",
            "Requirement already satisfied: numpy>=1.17 in /usr/local/lib/python3.9/dist-packages (from transformers) (1.22.4)\n",
            "Requirement already satisfied: pyyaml>=5.1 in /usr/local/lib/python3.9/dist-packages (from transformers) (6.0)\n",
            "Requirement already satisfied: typing-extensions>=3.7.4.3 in /usr/local/lib/python3.9/dist-packages (from huggingface-hub<1.0,>=0.11.0->transformers) (4.5.0)\n",
            "Requirement already satisfied: urllib3<1.27,>=1.21.1 in /usr/local/lib/python3.9/dist-packages (from requests->transformers) (1.26.15)\n",
            "Requirement already satisfied: certifi>=2017.4.17 in /usr/local/lib/python3.9/dist-packages (from requests->transformers) (2022.12.7)\n",
            "Requirement already satisfied: idna<3,>=2.5 in /usr/local/lib/python3.9/dist-packages (from requests->transformers) (2.10)\n",
            "Requirement already satisfied: chardet<5,>=3.0.2 in /usr/local/lib/python3.9/dist-packages (from requests->transformers) (4.0.0)\n",
            "Looking in indexes: https://pypi.org/simple, https://us-python.pkg.dev/colab-wheels/public/simple/\n",
            "Requirement already satisfied: mosestokenizer in /usr/local/lib/python3.9/dist-packages (1.2.1)\n",
            "Requirement already satisfied: toolwrapper in /usr/local/lib/python3.9/dist-packages (from mosestokenizer) (2.1.0)\n",
            "Requirement already satisfied: openfile in /usr/local/lib/python3.9/dist-packages (from mosestokenizer) (0.0.7)\n",
            "Requirement already satisfied: uctools in /usr/local/lib/python3.9/dist-packages (from mosestokenizer) (1.3.0)\n",
            "Requirement already satisfied: docopt in /usr/local/lib/python3.9/dist-packages (from mosestokenizer) (0.6.2)\n",
            "Looking in indexes: https://pypi.org/simple, https://us-python.pkg.dev/colab-wheels/public/simple/\n",
            "Requirement already satisfied: sentencepiece in /usr/local/lib/python3.9/dist-packages (0.1.97)\n"
          ]
        }
      ],
      "source": [
        "!pip install transformers\n",
        "!pip install mosestokenizer\n",
        "!pip install sentencepiece\n",
        "from transformers import MarianMTModel, MarianTokenizer"
      ]
    },
    {
      "cell_type": "code",
      "source": [
        "# Get the name of the first model\n",
        "first_model_name = 'Helsinki-NLP/opus-mt-en-fr'\n",
        "\n",
        "# Get the tokenizer\n",
        "first_model_tkn = MarianTokenizer.from_pretrained(first_model_name)\n",
        "\n",
        "# Load the pretrained model based on the name\n",
        "first_model = MarianMTModel.from_pretrained(first_model_name)"
      ],
      "metadata": {
        "id": "62vsKt1o_oHw",
        "colab": {
          "base_uri": "https://localhost:8080/"
        },
        "outputId": "e4a3b87c-35d8-4b41-916d-aa181619258e"
      },
      "execution_count": null,
      "outputs": [
        {
          "output_type": "stream",
          "name": "stderr",
          "text": [
            "/usr/local/lib/python3.9/dist-packages/transformers/models/marian/tokenization_marian.py:194: UserWarning: Recommended: pip install sacremoses.\n",
            "  warnings.warn(\"Recommended: pip install sacremoses.\")\n"
          ]
        }
      ]
    },
    {
      "cell_type": "code",
      "source": [
        "# Get the name of the second model\n",
        "second_model_name = 'Helsinki-NLP/opus-mt-fr-en'\n",
        "\n",
        "# Get the tokenizer\n",
        "second_model_tkn = MarianTokenizer.from_pretrained(second_model_name)\n",
        "\n",
        "# Load the pretrained model based on the name\n",
        "second_model = MarianMTModel.from_pretrained(second_model_name)"
      ],
      "metadata": {
        "id": "xKEVpw9T_910"
      },
      "execution_count": null,
      "outputs": []
    },
    {
      "cell_type": "code",
      "source": [
        "import pandas as pd"
      ],
      "metadata": {
        "id": "DbzSDTG6kp1E"
      },
      "execution_count": null,
      "outputs": []
    },
    {
      "cell_type": "code",
      "source": [
        "df=pd.read_csv(\"MalAdapTrain.csv\", encoding=\"ISO-8859-1\")"
      ],
      "metadata": {
        "id": "YrkAm2rGklS6"
      },
      "execution_count": null,
      "outputs": []
    },
    {
      "cell_type": "code",
      "source": [
        "df.head()"
      ],
      "metadata": {
        "id": "X_aYfLfPkxn-"
      },
      "execution_count": null,
      "outputs": []
    },
    {
      "cell_type": "code",
      "source": [
        "df1 = df[df['Adaptive'] == 0]"
      ],
      "metadata": {
        "id": "pqtjaAE-rnYh"
      },
      "execution_count": null,
      "outputs": []
    },
    {
      "cell_type": "code",
      "source": [
        "df2 = df[df['Adaptive'] == 1]"
      ],
      "metadata": {
        "id": "PXfIfUe6eNqN"
      },
      "execution_count": null,
      "outputs": []
    },
    {
      "cell_type": "code",
      "source": [
        "df2.shape"
      ],
      "metadata": {
        "colab": {
          "base_uri": "https://localhost:8080/"
        },
        "id": "E2WZzrSLeUOu",
        "outputId": "183163d9-ca25-4d8c-a0d6-b5a5cc13f33d"
      },
      "execution_count": null,
      "outputs": [
        {
          "output_type": "execute_result",
          "data": {
            "text/plain": [
              "(946, 3)"
            ]
          },
          "metadata": {},
          "execution_count": 8
        }
      ]
    },
    {
      "cell_type": "code",
      "source": [
        "df1.shape"
      ],
      "metadata": {
        "colab": {
          "base_uri": "https://localhost:8080/"
        },
        "id": "bw6vnnI701se",
        "outputId": "33fea802-4ce7-4728-850b-a83d8bcbc306"
      },
      "execution_count": null,
      "outputs": [
        {
          "output_type": "execute_result",
          "data": {
            "text/plain": [
              "(243, 3)"
            ]
          },
          "metadata": {},
          "execution_count": 9
        }
      ]
    },
    {
      "cell_type": "code",
      "source": [
        "original_texts = df1['Text'][201:243].tolist()\n",
        "original_texts"
      ],
      "metadata": {
        "colab": {
          "base_uri": "https://localhost:8080/"
        },
        "id": "EuMmBl1Wk33-",
        "outputId": "7954a212-836d-4af7-ac96-e387aced9042"
      },
      "execution_count": null,
      "outputs": [
        {
          "output_type": "execute_result",
          "data": {
            "text/plain": [
              "['A man is coughing immensely in a packed train.. Others are looking worried about it, and one of the passengers asks: \\n \"Excuse me, do you have coronavirus?\" \\n \"No sir, I\\'m diagnosed with overt tuberculosis.\" \\n \"Thank God\", the others sigh in relief.',\n",
              " 'I told a joke about Coronavirus and nobody laughed. Except that Chinese kid in the back. He got it.',\n",
              " \"Trump 'could suck coronavirus out of 60,000 people' and he'd still be criticized â\\x80\\x93 Huckabee\",\n",
              " \"Yo mama's so ugly. She took off her facemask during quarantine and was arrested for indecent exposure\",\n",
              " 'This quarantine thing is not working out.. My wife and I are becoming friends and I almost told her about my girlfriend.',\n",
              " \"my girlfriend has been quarantined because of the coronavirus.. i'm really worried, she's stuck at her ex's house and sent a voicemail of her moaning in pain. hopefully god is good to her and she can come home soon.\",\n",
              " 'You may not have a low iq. you could just be a narcistic, self centered, asshole who only thinks of themselves. Who knows or cares.',\n",
              " 'Talking to my elderly neighbor on the balcony during quarantine and he goes:. \"The worst has yet to come. - What will it be? - The Jehova Witnesses know we are all stuck at home!\"',\n",
              " \"I was diagnosed with the corona virus at a brothel and the whole place was immediately quarantined.. Jeez, now I'll be stuck here for two weeks.\",\n",
              " 'My girlfriend was telling me about how quarantine must be rough for beautiful people, since the people around them are finally realizing that they have no personality.. Jokingly, I laugh and say, \"Yeah, it\\'s been a ride awakening for me.\"\\n \\n She sorta gives me the side eye, snorts, and says, \"Why the hell did you think I was talking about you?\"',\n",
              " \"The quarantine is affecting everyone in the work force but it sucks especially for men. We're losing $1 for every $0.79 woman are losing.\",\n",
              " 'Trump Holds Diplomatic Ceremony To Formally Welcome Coronavirus To United States',\n",
              " 'Half of us is going to come out of this quarantine an amazing cook. Which will be beneficial in the funerals of the other half!',\n",
              " 'Man Made False Orders from Pizzerias, Said He Hoped Italians Got Coronavirus',\n",
              " 'With the quarantine and all the bars closed, I got some opportunity to talk to my wife.. She actually seems like a nice person.',\n",
              " 'Your mom is so fat that the doctor has to use a drill to vaccinate her',\n",
              " 'If Trump Recovers, He Will Write A Book About His Quarantine Experience And How He Got Through It.. The Art Of The Heal',\n",
              " 'Since self quarantine, masturbation has doubled among the population.... You know what they say desperate times call for desperate pleasures...',\n",
              " 'Pope Francis Urges Priests To Refrain From Molesting Children Over Coronavirus Fears',\n",
              " 'This quarantine is getting pretty awesome. last night I got to fuck my sons teacher!',\n",
              " 'Japanese police pause raid so suspects can come out and check their temperatures for coronavirus',\n",
              " \"In the hierarchy of dipshits, there's run of the mill anti-vaxxers, Qanon believers, holocaust deniers, people that use their phone in movie theatres and then you.\",\n",
              " \"So, shouldn't we like wait . Till after the pandemic to do the census?\",\n",
              " \"Investigation Reveals Covid-19 Covering Its Tracks By Making Victims' Deaths Look Like Car Accidents\",\n",
              " \"Yo momma so ugly... . We're gonna lie to her that the pandemic isn't over so she can keep her mask on.\",\n",
              " 'Yo mama is like groceries during a pandemic... . ...available for curbside pickup.',\n",
              " 'Our church minister is still banging parishioners despite the pandemic... . Guess he never heard the commandment, \"Thou shalt not covid they neighbor\\'s wife\".',\n",
              " 'At the beginning of the pandemic we were laughing at the people wearing ridiculous face masks and at the end we were laughing at the people not wearing masks at all.',\n",
              " \"Covid-19: 'I've been abused because my name is Corona'\",\n",
              " \"Did you know there is a second heaven for people who died of pandemics? . It's called the after party\",\n",
              " 'Where is the best place to go for a walk during a pandemic? . A cemetery - every one is six feet under you.',\n",
              " 'Jeffery Dahmer is in his kitchen, using his blender... . ... when his phone goes off in his pocket. It was a notification from the CDC:\\n \\n \"The public is still advised to avoid direct contact from others through cordial gestures during this pandemic, such as hugs or ***handshakes.*** \"\\n \\n \"Awwwwww...\" Jeffery mopes, as he turns off his blender.',\n",
              " \"On the plus side to this whole pandemic . I haven't heard of any school shootings this year\",\n",
              " 'A COVID-19 patient died after experiencing a 3-hour erection that doctors struggled to treat',\n",
              " \"In a year, we're all going to remember this pandemic and laugh about it... . ...at least the ones left...\",\n",
              " \"Go Corona Go' fame Ramdas Athawale tests coronavirus positive, hospitalised\",\n",
              " \"CoRoNa DoEsN't ExIsT, ItS mAdE uP bY tHe GoVeRmEnT!\",\n",
              " 'Thousands of Young Adults Are Volunteering to Catch COVID-19 to Save Others in the Future',\n",
              " 'Scientists Attempt To Convince Public To Take Covid More Seriously By Explaining Concept Of Death',\n",
              " \"I hope this pandemic is over before tick season starts... . Then it'll be corona and lyme.\",\n",
              " \"Lol plague inc easy mode is so unrealistic . Like who wouldn't wash their hands and wear a mask during a global pandemic.\",\n",
              " 'How many cities does it take to start a global pandemic? . Only Wuhan.']"
            ]
          },
          "metadata": {},
          "execution_count": 112
        }
      ]
    },
    {
      "cell_type": "code",
      "source": [
        "def format_batch_texts(language_code, batch_texts):\n",
        "  \n",
        "    formated_bach = [\">>{}<< {}\".format(language_code, text) for text in batch_texts]\n",
        "\n",
        "    return formated_bach"
      ],
      "metadata": {
        "id": "7-VCneTKchfQ"
      },
      "execution_count": null,
      "outputs": []
    },
    {
      "cell_type": "code",
      "source": [
        "# Test of the function\n",
        "format_batch_texts(\"fr\", original_texts)"
      ],
      "metadata": {
        "colab": {
          "base_uri": "https://localhost:8080/"
        },
        "id": "0ItEeDx1ck1I",
        "outputId": "7f994300-44f1-4582-fb18-a6b202722b00"
      },
      "execution_count": null,
      "outputs": [
        {
          "output_type": "execute_result",
          "data": {
            "text/plain": [
              "['>>fr<< A man is coughing immensely in a packed train.. Others are looking worried about it, and one of the passengers asks: \\n \"Excuse me, do you have coronavirus?\" \\n \"No sir, I\\'m diagnosed with overt tuberculosis.\" \\n \"Thank God\", the others sigh in relief.',\n",
              " '>>fr<< I told a joke about Coronavirus and nobody laughed. Except that Chinese kid in the back. He got it.',\n",
              " \">>fr<< Trump 'could suck coronavirus out of 60,000 people' and he'd still be criticized â\\x80\\x93 Huckabee\",\n",
              " \">>fr<< Yo mama's so ugly. She took off her facemask during quarantine and was arrested for indecent exposure\",\n",
              " '>>fr<< This quarantine thing is not working out.. My wife and I are becoming friends and I almost told her about my girlfriend.',\n",
              " \">>fr<< my girlfriend has been quarantined because of the coronavirus.. i'm really worried, she's stuck at her ex's house and sent a voicemail of her moaning in pain. hopefully god is good to her and she can come home soon.\",\n",
              " '>>fr<< You may not have a low iq. you could just be a narcistic, self centered, asshole who only thinks of themselves. Who knows or cares.',\n",
              " '>>fr<< Talking to my elderly neighbor on the balcony during quarantine and he goes:. \"The worst has yet to come. - What will it be? - The Jehova Witnesses know we are all stuck at home!\"',\n",
              " \">>fr<< I was diagnosed with the corona virus at a brothel and the whole place was immediately quarantined.. Jeez, now I'll be stuck here for two weeks.\",\n",
              " '>>fr<< My girlfriend was telling me about how quarantine must be rough for beautiful people, since the people around them are finally realizing that they have no personality.. Jokingly, I laugh and say, \"Yeah, it\\'s been a ride awakening for me.\"\\n \\n She sorta gives me the side eye, snorts, and says, \"Why the hell did you think I was talking about you?\"',\n",
              " \">>fr<< The quarantine is affecting everyone in the work force but it sucks especially for men. We're losing $1 for every $0.79 woman are losing.\",\n",
              " '>>fr<< Trump Holds Diplomatic Ceremony To Formally Welcome Coronavirus To United States',\n",
              " '>>fr<< Half of us is going to come out of this quarantine an amazing cook. Which will be beneficial in the funerals of the other half!',\n",
              " '>>fr<< Man Made False Orders from Pizzerias, Said He Hoped Italians Got Coronavirus',\n",
              " '>>fr<< With the quarantine and all the bars closed, I got some opportunity to talk to my wife.. She actually seems like a nice person.',\n",
              " '>>fr<< Your mom is so fat that the doctor has to use a drill to vaccinate her',\n",
              " '>>fr<< If Trump Recovers, He Will Write A Book About His Quarantine Experience And How He Got Through It.. The Art Of The Heal',\n",
              " '>>fr<< Since self quarantine, masturbation has doubled among the population.... You know what they say desperate times call for desperate pleasures...',\n",
              " '>>fr<< Pope Francis Urges Priests To Refrain From Molesting Children Over Coronavirus Fears',\n",
              " '>>fr<< This quarantine is getting pretty awesome. last night I got to fuck my sons teacher!',\n",
              " '>>fr<< Japanese police pause raid so suspects can come out and check their temperatures for coronavirus',\n",
              " \">>fr<< In the hierarchy of dipshits, there's run of the mill anti-vaxxers, Qanon believers, holocaust deniers, people that use their phone in movie theatres and then you.\",\n",
              " \">>fr<< So, shouldn't we like wait . Till after the pandemic to do the census?\",\n",
              " \">>fr<< Investigation Reveals Covid-19 Covering Its Tracks By Making Victims' Deaths Look Like Car Accidents\",\n",
              " \">>fr<< Yo momma so ugly... . We're gonna lie to her that the pandemic isn't over so she can keep her mask on.\",\n",
              " '>>fr<< Yo mama is like groceries during a pandemic... . ...available for curbside pickup.',\n",
              " '>>fr<< Our church minister is still banging parishioners despite the pandemic... . Guess he never heard the commandment, \"Thou shalt not covid they neighbor\\'s wife\".',\n",
              " '>>fr<< At the beginning of the pandemic we were laughing at the people wearing ridiculous face masks and at the end we were laughing at the people not wearing masks at all.',\n",
              " \">>fr<< Covid-19: 'I've been abused because my name is Corona'\",\n",
              " \">>fr<< Did you know there is a second heaven for people who died of pandemics? . It's called the after party\",\n",
              " '>>fr<< Where is the best place to go for a walk during a pandemic? . A cemetery - every one is six feet under you.',\n",
              " '>>fr<< Jeffery Dahmer is in his kitchen, using his blender... . ... when his phone goes off in his pocket. It was a notification from the CDC:\\n \\n \"The public is still advised to avoid direct contact from others through cordial gestures during this pandemic, such as hugs or ***handshakes.*** \"\\n \\n \"Awwwwww...\" Jeffery mopes, as he turns off his blender.',\n",
              " \">>fr<< On the plus side to this whole pandemic . I haven't heard of any school shootings this year\",\n",
              " '>>fr<< A COVID-19 patient died after experiencing a 3-hour erection that doctors struggled to treat',\n",
              " \">>fr<< In a year, we're all going to remember this pandemic and laugh about it... . ...at least the ones left...\",\n",
              " \">>fr<< Go Corona Go' fame Ramdas Athawale tests coronavirus positive, hospitalised\",\n",
              " \">>fr<< CoRoNa DoEsN't ExIsT, ItS mAdE uP bY tHe GoVeRmEnT!\",\n",
              " '>>fr<< Thousands of Young Adults Are Volunteering to Catch COVID-19 to Save Others in the Future',\n",
              " '>>fr<< Scientists Attempt To Convince Public To Take Covid More Seriously By Explaining Concept Of Death',\n",
              " \">>fr<< I hope this pandemic is over before tick season starts... . Then it'll be corona and lyme.\",\n",
              " \">>fr<< Lol plague inc easy mode is so unrealistic . Like who wouldn't wash their hands and wear a mask during a global pandemic.\",\n",
              " '>>fr<< How many cities does it take to start a global pandemic? . Only Wuhan.']"
            ]
          },
          "metadata": {},
          "execution_count": 118
        }
      ]
    },
    {
      "cell_type": "code",
      "source": [
        "def perform_translation(batch_texts, model, tokenizer, language=\"fr\"):\n",
        "    # Prepare the text data into appropriate format for the model\n",
        "    formated_batch_texts = format_batch_texts(language, batch_texts)\n",
        "    \n",
        "    # Generate translation using model\n",
        "    translated = model.generate(**tokenizer(formated_batch_texts, return_tensors=\"pt\", padding = True))\n",
        "\n",
        "    # Convert the generated tokens indices back into text\n",
        "    translated_texts = [tokenizer.decode(t, skip_special_tokens=True) for t in translated]\n",
        "    \n",
        "    return translated_texts"
      ],
      "metadata": {
        "id": "tOo8sVZ3cmah"
      },
      "execution_count": null,
      "outputs": []
    },
    {
      "cell_type": "code",
      "source": [
        "translated_texts = perform_translation(original_texts, first_model, first_model_tkn)"
      ],
      "metadata": {
        "id": "ZHYxHIKscp0A"
      },
      "execution_count": null,
      "outputs": []
    },
    {
      "cell_type": "code",
      "source": [
        "translated_texts"
      ],
      "metadata": {
        "id": "VKM1ABFvctFN",
        "colab": {
          "base_uri": "https://localhost:8080/"
        },
        "outputId": "b44785ae-d800-446d-a560-9edab299c959"
      },
      "execution_count": null,
      "outputs": [
        {
          "output_type": "execute_result",
          "data": {
            "text/plain": [
              "['Un homme tousse immensément dans un train chargé.. D\\'autres sont inquiets à ce sujet, et l\\'un des passagers demande: \"Excusez-moi, avez-vous le coronavirus?\" \"Non monsieur, je suis diagnostiqué avec la tuberculose ouverte.\" \"Merci Dieu\", les autres soupirent en soulagement.',\n",
              " \"J'ai raconté une blague sur le Coronavirus et personne n'a ri, sauf ce Chinois dans le dos.\",\n",
              " 'Trump \\'pourrait sucer le coronavirus sur 60 000 personnes\\' et il \\'était encore critiqué \\'\" Huckabee',\n",
              " 'Yo maman est si laid. Elle a enlevé son masque en quarantaine et a été arrêtée pour exposition indécente.',\n",
              " 'Cette chose de quarantaine ne fonctionne pas.. Ma femme et moi devenons amis et je lui ai presque parlé de ma petite amie.',\n",
              " \"Ma copine a été mise en quarantaine à cause du coronavirus.. Je suis vraiment inquiet, elle est coincée chez son ex et a envoyé un message vocal de ses gémissements dans la douleur. J'espère que Dieu est bon pour elle et elle peut rentrer bientôt à la maison.\",\n",
              " \"Vous n'avez peut-être pas un iq bas. vous pourriez juste être un narciste, autocentré, trou du cul qui pense seulement d'eux-mêmes. Qui sait ou se soucie.\",\n",
              " '\"Le pire n\\'est pas encore arrivé. - Qu\\'est-ce que c\\'est? - Les Témoins de Jehova savent que nous sommes tous coincés à la maison!\"',\n",
              " \"On m'a diagnostiqué le virus de la corona dans un bordel et tout l'endroit a été immédiatement mis en quarantaine. Bon sang, maintenant je serai coincé ici pendant deux semaines.\",\n",
              " 'Ma petite amie me disait à quel point la quarantaine doit être rude pour les belles personnes, puisque les gens autour d\\'elles se rendent finalement compte qu\\'ils n\\'ont pas de personnalité.. Jokingly, je ris et dis, \"Oui, ça a été un tour qui s\\'est réveillé pour moi.\" Elle me donne en quelque sorte l\\'œil latéral, snorts, et dit, \"Pourquoi diable pensiez-vous que je parlais de vous?\"',\n",
              " 'La quarantaine affecte tout le monde dans la force de travail, mais elle craint surtout pour les hommes. Nous perdons $1 pour chaque $0.79 femme perdent.',\n",
              " 'Trump tient une cérémonie diplomatique pour accueillir officiellement Coronavirus aux États-Unis',\n",
              " \"La moitié d'entre nous va sortir de cette quarantaine un cuisinier incroyable. Ce qui sera bénéfique dans les funérailles de l'autre moitié!\",\n",
              " \"L'homme a fait de faux ordres de Pizzerias, a dit qu'il espérait que les Italiens ont obtenu Coronavirus\",\n",
              " \"Avec la quarantaine et tous les bars fermés, j'ai eu l'occasion de parler à ma femme.. Elle semble en fait être une bonne personne.\",\n",
              " 'Ta mère est tellement grosse que le médecin doit utiliser une perceuse pour la vacciner.',\n",
              " \"Si Trump se rétablit, il écrira un livre sur son expérience de quarantaine et comment il s'en est sorti.. L'art de la guérison\",\n",
              " \"Depuis l'auto quarantaine, la masturbation a doublé au sein de la population... vous savez ce qu'on dit des temps désespérés appellent des plaisirs désespérés...\",\n",
              " 'Le pape François demande instamment aux prêtres de se soustraire aux enfants molestifs face aux craintes du coronavirus',\n",
              " 'Cette quarantaine est de plus en plus géniale. La nuit dernière, je dois baiser mes fils prof!',\n",
              " 'La police japonaise arrête le raid pour que les suspects puissent sortir et vérifier leurs températures pour le coronavirus',\n",
              " 'Dans la hiérarchie des dipshits, il y a la course des anti-vaxxers du moulin, les croyants de Qanon, les holocaustes des deniers, les gens qui utilisent leur téléphone dans les salles de cinéma et puis vous.',\n",
              " 'Alors, ne devrions-nous pas attendre après la pandémie pour faire le recensement?',\n",
              " \"L'enquête révèle que Covid-19 couvre ses traces en faisant ressembler les décès des victimes à des accidents de voiture.\",\n",
              " \"On va lui mentir que la pandémie n'est pas finie pour qu'elle puisse garder son masque.\",\n",
              " \"Yo maman est comme l'épicerie lors d'une pandémie...... disponible pour le ramassage des trottoirs.\",\n",
              " 'Notre ministre d\\'église est toujours en train de frapper les paroissiens malgré la pandémie. Il n\\'a jamais entendu le commandement, \"Tu ne covideras pas leur femme du voisin\".',\n",
              " 'Au début de la pandémie, nous nous moquions des gens portant des masques ridicules et à la fin, nous nous moquions des gens qui ne portaient pas de masque du tout.',\n",
              " 'Covid-19 : \"J\\'ai été abusé parce que je m\\'appelle Corona\"',\n",
              " \"Saviez-vous qu'il y a un deuxième paradis pour les gens qui sont morts de pandémies?\",\n",
              " 'Où est le meilleur endroit pour aller faire une promenade pendant une pandémie?. Un cimetière - chacun est six pieds sous vous.',\n",
              " \"Jeffery Dahmer est dans sa cuisine, en utilisant son mixeur...... quand son téléphone s'est éteint dans sa poche. C'était une notification du CDC : « Le public est toujours conseillé d'éviter le contact direct des autres par des gestes cordiaux pendant cette pandémie, tels que des câlins ou *** des poignées de main.*** « Awww... » Jeffery mopes, alors qu'il éteigne son mixeur.\",\n",
              " \"Je n'ai entendu parler d'aucune fusillade à l'école cette année.\",\n",
              " 'Un patient COVID-19 est mort après avoir subi une érection de 3 heures que les médecins ont lutté pour traiter',\n",
              " 'Dans un an, nous allons tous nous souvenir de cette pandémie et en rire... au moins ceux qui sont restés...',\n",
              " \"Go Corona Go' renommée Ramdas Athawale tests coronavirus positif, hospitalisé\",\n",
              " \"CoRoNa DoEsN't Exist, ItS mAdE uP bY tHe GoVeRmEnT!\",\n",
              " \"Des milliers de jeunes adultes sont volontaires pour attraper COVID-19 pour sauver d'autres à l'avenir\",\n",
              " 'Les scientifiques tentent de convaincre le public de prendre Covid plus sérieusement en expliquant le concept de la mort',\n",
              " \"J'espère que cette pandémie est terminée avant le début de la saison des tiques.\",\n",
              " 'Comme qui ne se laverait pas les mains et ne porterait pas de masque pendant une pandémie mondiale.',\n",
              " 'Combien de villes faut-il pour déclencher une pandémie mondiale?. Seulement Wuhan.']"
            ]
          },
          "metadata": {},
          "execution_count": 121
        }
      ]
    },
    {
      "cell_type": "code",
      "source": [
        "back_translated_texts = perform_translation(translated_texts, second_model, second_model_tkn)"
      ],
      "metadata": {
        "id": "AzzCKs_icvpU"
      },
      "execution_count": null,
      "outputs": []
    },
    {
      "cell_type": "code",
      "source": [
        "back_translated_texts"
      ],
      "metadata": {
        "id": "_fuo4jRRcyth",
        "colab": {
          "base_uri": "https://localhost:8080/"
        },
        "outputId": "8b024ab5-a53d-4717-dcf5-b0a408b51b43"
      },
      "execution_count": null,
      "outputs": [
        {
          "output_type": "execute_result",
          "data": {
            "text/plain": [
              "['A man coughs immensely on a loaded train. Others are worried about it, and one of the passengers asks: \"Excuse me, do you have the coronavirus?\" \"No sir, I am diagnosed with open tuberculosis.\" \"Thank God,\" the others sighed in relief.',\n",
              " 'I told a joke about Coronavirus and nobody laughed, except that Chinese guy in the back.',\n",
              " 'Trump \\'could suck the coronavirus on 60,000 people\\' and he \\'was still criticized\\' \"Huckabee',\n",
              " \"Yo mommy's so ugly. She took off her quarantine mask and was arrested for indecent exposure.\",\n",
              " 'My wife and I are becoming friends and I almost told her about my girlfriend.',\n",
              " \"My girlfriend was quarantined because of the coronavirus.. I'm really worried, she's stuck at her ex and sent a voice message of her groaning in pain. I hope God is good for her and she can come home soon.\",\n",
              " \"Maybe you don't have a iq down. You could just be a narcist, self-centered, asshole who thinks only of themselves. Who knows or cares.\",\n",
              " '\"The worst hasn\\'t happened yet. - What is it? - The Witnesses in Jehova know we\\'re all stuck at home!\"',\n",
              " \"I was diagnosed with the corona virus in a brothel and the whole place was immediately quarantined. God damn it, now I'll be stuck here for two weeks.\",\n",
              " 'My girlfriend used to tell me how harsh the quarantine must be for the beautiful people, since the people around them finally realize that they have no personality. Jokingly, I laugh and say, \"Yes, it was a trick that woke up for me.\" She kind of gives me the side eye, snorts, and says, \"Why the hell did you think I was talking about you?\"',\n",
              " 'The quarantine affects everyone in the workforce, but it fears mostly for men. We lose $1 for every $0.79 woman lose.',\n",
              " 'Trump holds diplomatic ceremony to officially host Coronavirus in the United States',\n",
              " 'Half of us will come out of this incredible 40th, which will be beneficial in the funeral of the other half!',\n",
              " 'The man made false orders from Pizzerias, said he hoped that the Italians got Coronavirus',\n",
              " 'With quarantine and all the bars closed, I had the opportunity to talk to my wife.. She actually seems to be a good person.',\n",
              " 'Your mother is so fat that the doctor has to use a drill to vaccinate her.',\n",
              " 'If Trump recovers, he will write a book about his quarantine experience and how he got out of it.. The art of healing',\n",
              " 'Since the self-forties, masturbation has doubled among the population... you know what they say of desperate times call desperate pleasures...',\n",
              " 'Pope Francis Urges Priests to Avoid Molestive Children in the Face of Fears of Coronavirus',\n",
              " 'Last night, I had to fuck my son, a teacher!',\n",
              " 'Japanese police stop raiding so suspects can get out and check their temperatures for coronavirus',\n",
              " 'In the hierarchy of dipshits, there is the race of the anti-vaxxers of the mill, the believers of Qanon, the holocausts of the denaries, the people who use their phone in the cinemas and then you.',\n",
              " \"Then, shouldn't we wait until after the pandemic to do the census?\",\n",
              " 'The investigation revealed that Covid-19 covered his tracks by making the deaths of the victims look like car accidents.',\n",
              " \"We're gonna lie to her that the pandemic isn't over so she can keep her mask.\",\n",
              " 'Yo mom is like the grocery store during a pandemic...... available to pick up sidewalks.',\n",
              " 'Our minister of church is still beating the parishioners despite the pandemic. He has never heard the command, \"You will not covide their wife from the neighbor\".',\n",
              " 'At the beginning of the pandemic, we laughed at people wearing ridiculous masks and at the end, we laughed at people who were not wearing masks at all.',\n",
              " 'Covid-19: \"I was abused because my name is Corona\"',\n",
              " 'Did you know that there is a second paradise for people who have died of pandemics?',\n",
              " 'Where is the best place to go for a walk during a pandemic?. A cemetery - each is six feet under you.',\n",
              " 'Jeffery Dahmer is in her kitchen, using her mixer...... when her phone went off in her pocket. It was a notification from the CDC: \"The public is always advised to avoid direct contact with others through cordial gestures during this pandemic, such as hugs or *** handshakes.*** \"Awww...\" Jeffery moles, while turning off his mixer.',\n",
              " \"I haven't heard of any shootings at school this year.\",\n",
              " 'A VOCID-19 patient died after having had a 3-hour erection that doctors struggled to treat.',\n",
              " \"In a year's time, we'll all remember this pandemic and laugh at it... at least those who stayed...\",\n",
              " \"Go Corona Go' renowned Ramdas Athawale positive coronavirus tests, hospitalized\",\n",
              " \"CoRoNa DoEsN't Exist, ItS mAdE uP bY tHe GoVeRmEnT!\",\n",
              " 'Thousands of young adults volunteer to catch VOCID-19 to save others in the future',\n",
              " 'Scientists try to convince the public to take Covid more seriously by explaining the concept of death',\n",
              " 'I hope this pandemic is over before the tick season begins.',\n",
              " \"As if he didn't wash his hands and wear a mask during a global pandemic.\",\n",
              " 'How many cities does it take to trigger a global pandemic?. Only Wuhan.']"
            ]
          },
          "metadata": {},
          "execution_count": 123
        }
      ]
    }
  ]
}